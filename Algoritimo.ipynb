{
 "cells": [
  {
   "attachments": {},
   "cell_type": "markdown",
   "metadata": {},
   "source": [
    "# Algoritmo para Montar as Combinações"
   ]
  },
  {
   "attachments": {},
   "cell_type": "markdown",
   "metadata": {},
   "source": [
    "#### Importando as Bibliotecas"
   ]
  },
  {
   "cell_type": "code",
   "execution_count": 82,
   "metadata": {},
   "outputs": [],
   "source": [
    "import pandas as pd\n",
    "import numpy as np\n",
    "from itertools import product"
   ]
  },
  {
   "attachments": {},
   "cell_type": "markdown",
   "metadata": {},
   "source": [
    "#### Quais Perks tem em cada Grupo"
   ]
  },
  {
   "cell_type": "code",
   "execution_count": 83,
   "metadata": {},
   "outputs": [],
   "source": [
    "perks_offensive = [\"Galestorm\", \"Devourer\", \"Early Reaper\", \"Endurance\", \n",
    "                   \"Survival Instinct\", \"Crush Them\", \"Head_Hunter\"]\n",
    "\n",
    "perks_defensive = []\n",
    "\n",
    "perks_assistive = []"
   ]
  },
  {
   "cell_type": "code",
   "execution_count": 84,
   "metadata": {},
   "outputs": [],
   "source": [
    "itens = {\"Capacete\": 2, \"Peitoral\": 3, \"Braçadeira\": 2, \"Lâmina\": 1, \"Punho\": 2, \"Guarda\": 3}"
   ]
  },
  {
   "attachments": {},
   "cell_type": "markdown",
   "metadata": {},
   "source": [
    "##### Criamos as Colunas do DataFrame, colocando manualmente os Perks de cada Item em ordem **(OH DISGRAÇA!)**"
   ]
  },
  {
   "cell_type": "code",
   "execution_count": 115,
   "metadata": {},
   "outputs": [],
   "source": [
    "dic_itens = {'Capacete1': np.array([0, 210, 0, 0, 0, 0, 80]),\n",
    "             'Capacete2': np.array([200, 0, 0, 230, 0, 0, 0]),\n",
    "            'Peitoral1': np.array([0, 0, 0, 0, 120, 0, 90]),\n",
    "            'Peitoral2': np.array([0, 130, 0, 220, 0, 0, 0]),\n",
    "            'Peitoral3': np.array([223, 0, 0, 0, 147, 0, 0]),\n",
    "            'Braçadeiras1': np.array([0, 0, 145, 0, 0, 0, 199]),\n",
    "            'Braçadeiras2': np.array([225, 0, 0, 129, 0, 0, 0]),\n",
    "            'Lâmina1': np.array([0, 232, 160, 0, 0, 0, 0]),\n",
    "            'Punho1': np.array([206, 0, 0, 0, 143, 0, 0]),\n",
    "            'Punho2': np.array([0, 0, 232, 0, 0, 194, 0]),\n",
    "            'Guarda1': np.array([187, 152, 0, 0, 0, 0, 0]),\n",
    "            'Guarda2': np.array([0, 0, 0, 222, 228, 0, 0]),\n",
    "            'Guarda3': np.array([0, 0, 0, 218, 0, 150, 0])\n",
    "            }\n"
   ]
  },
  {
   "attachments": {},
   "cell_type": "markdown",
   "metadata": {},
   "source": [
    "#### Criando o DataFrame"
   ]
  },
  {
   "cell_type": "code",
   "execution_count": 113,
   "metadata": {},
   "outputs": [
    {
     "name": "stdout",
     "output_type": "stream",
     "text": [
      "                   Capacete1  Capacete2  Peitoral1  Peitoral2  Peitoral3   \n",
      "Galestorm                  0        200          0          0        223  \\\n",
      "Devourer                 210          0          0        130          0   \n",
      "Early Reaper               0          0          0          0          0   \n",
      "Endurance                  0        230          0        220          0   \n",
      "Survival Instinct          0          0        120          0        147   \n",
      "Crush Them                 0          0          0          0          0   \n",
      "Head_Hunter               80          0         90          0          0   \n",
      "\n",
      "                   Braçadeiras1  Braçadeiras2  Lâmina1  Punho1  Punho2   \n",
      "Galestorm                     0           225        0     206       0  \\\n",
      "Devourer                      0             0      232       0       0   \n",
      "Early Reaper                145             0      160       0     232   \n",
      "Endurance                     0           129        0       0       0   \n",
      "Survival Instinct             0             0        0     143       0   \n",
      "Crush Them                    0             0        0       0     194   \n",
      "Head_Hunter                 199             0        0       0       0   \n",
      "\n",
      "                   Guarda1  Guarda2  Guarda3  \n",
      "Galestorm              187        0        0  \n",
      "Devourer               152        0        0  \n",
      "Early Reaper             0        0        0  \n",
      "Endurance                0      222      218  \n",
      "Survival Instinct        0      228        0  \n",
      "Crush Them               0        0      150  \n",
      "Head_Hunter              0        0        0  \n"
     ]
    }
   ],
   "source": [
    "df = pd.DataFrame(dic_itens, index=perks_offensive)\n",
    "print(df)"
   ]
  },
  {
   "attachments": {},
   "cell_type": "markdown",
   "metadata": {},
   "source": [
    "#### Fazendo todas as combinações"
   ]
  },
  {
   "cell_type": "code",
   "execution_count": 109,
   "metadata": {},
   "outputs": [],
   "source": [
    "nome_itens = list(dic_itens.keys())\n",
    "\n",
    "c = nome_itens[:itens[\"Capacete\"]]\n",
    "pe = nome_itens[itens[\"Capacete\"]:itens[\"Capacete\"] + itens[\"Peitoral\"]]\n",
    "b = nome_itens[itens[\"Capacete\"] + itens[\"Peitoral\"]:itens[\"Capacete\"] + \n",
    "               itens[\"Peitoral\"] + itens[\"Braçadeira\"]]\n",
    "l = nome_itens[itens[\"Capacete\"] + itens[\"Peitoral\"] + itens[\"Braçadeira\"]:itens[\"Capacete\"] + \n",
    "               itens[\"Peitoral\"] + itens[\"Braçadeira\"] + itens[\"Lâmina\"]]\n",
    "pu = nome_itens[itens[\"Capacete\"] + itens[\"Peitoral\"] + itens[\"Braçadeira\"] + \n",
    "                itens[\"Lâmina\"]:itens[\"Capacete\"] + itens[\"Peitoral\"] + itens[\"Braçadeira\"] + \n",
    "                itens[\"Lâmina\"] + itens[\"Punho\"]] \n",
    "g = nome_itens[itens[\"Capacete\"] + itens[\"Peitoral\"] + itens[\"Braçadeira\"] + itens[\"Lâmina\"] + \n",
    "               itens[\"Punho\"]:itens[\"Capacete\"] + itens[\"Peitoral\"] + itens[\"Braçadeira\"] + \n",
    "               itens[\"Lâmina\"] + itens[\"Punho\"] + itens[\"Guarda\"]]\n",
    "\n",
    "combinacoes = list(product(c, pe, b, l, pu, g))"
   ]
  },
  {
   "attachments": {},
   "cell_type": "markdown",
   "metadata": {},
   "source": [
    "#### Criando as colunas do Novo DataFrame"
   ]
  },
  {
   "cell_type": "code",
   "execution_count": 118,
   "metadata": {},
   "outputs": [],
   "source": [
    "dic_comb = {}\n",
    "for comb in combinacoes:\n",
    "    perk_comb = [0]*7\n",
    "    for item in comb:\n",
    "        perk_comb += dic_itens[item]\n",
    "    dic_comb[f\"{comb}\"] = perk_comb\n"
   ]
  },
  {
   "attachments": {},
   "cell_type": "markdown",
   "metadata": {},
   "source": [
    "#### Por fim o DataFrame das Combinações"
   ]
  },
  {
   "cell_type": "code",
   "execution_count": 119,
   "metadata": {},
   "outputs": [
    {
     "name": "stdout",
     "output_type": "stream",
     "text": [
      "                   ('Capacete1', 'Peitoral1', 'Braçadeiras1', 'Lâmina1', 'Punho1', 'Guarda1')   \n",
      "Galestorm                                                        393                           \\\n",
      "Devourer                                                         594                            \n",
      "Early Reaper                                                     305                            \n",
      "Endurance                                                          0                            \n",
      "Survival Instinct                                                263                            \n",
      "Crush Them                                                         0                            \n",
      "Head_Hunter                                                      369                            \n",
      "\n",
      "                   ('Capacete1', 'Peitoral1', 'Braçadeiras1', 'Lâmina1', 'Punho1', 'Guarda2')   \n",
      "Galestorm                                                        206                           \\\n",
      "Devourer                                                         442                            \n",
      "Early Reaper                                                     305                            \n",
      "Endurance                                                        222                            \n",
      "Survival Instinct                                                491                            \n",
      "Crush Them                                                         0                            \n",
      "Head_Hunter                                                      369                            \n",
      "\n",
      "                   ('Capacete1', 'Peitoral1', 'Braçadeiras1', 'Lâmina1', 'Punho1', 'Guarda3')   \n",
      "Galestorm                                                        206                           \\\n",
      "Devourer                                                         442                            \n",
      "Early Reaper                                                     305                            \n",
      "Endurance                                                        218                            \n",
      "Survival Instinct                                                263                            \n",
      "Crush Them                                                       150                            \n",
      "Head_Hunter                                                      369                            \n",
      "\n",
      "                   ('Capacete1', 'Peitoral1', 'Braçadeiras1', 'Lâmina1', 'Punho2', 'Guarda1')   \n",
      "Galestorm                                                        187                           \\\n",
      "Devourer                                                         594                            \n",
      "Early Reaper                                                     537                            \n",
      "Endurance                                                          0                            \n",
      "Survival Instinct                                                120                            \n",
      "Crush Them                                                       194                            \n",
      "Head_Hunter                                                      369                            \n",
      "\n",
      "                   ('Capacete1', 'Peitoral1', 'Braçadeiras1', 'Lâmina1', 'Punho2', 'Guarda2')   \n",
      "Galestorm                                                          0                           \\\n",
      "Devourer                                                         442                            \n",
      "Early Reaper                                                     537                            \n",
      "Endurance                                                        222                            \n",
      "Survival Instinct                                                348                            \n",
      "Crush Them                                                       194                            \n",
      "Head_Hunter                                                      369                            \n",
      "\n",
      "                   ('Capacete1', 'Peitoral1', 'Braçadeiras1', 'Lâmina1', 'Punho2', 'Guarda3')   \n",
      "Galestorm                                                          0                           \\\n",
      "Devourer                                                         442                            \n",
      "Early Reaper                                                     537                            \n",
      "Endurance                                                        218                            \n",
      "Survival Instinct                                                120                            \n",
      "Crush Them                                                       344                            \n",
      "Head_Hunter                                                      369                            \n",
      "\n",
      "                   ('Capacete1', 'Peitoral1', 'Braçadeiras2', 'Lâmina1', 'Punho1', 'Guarda1')   \n",
      "Galestorm                                                        618                           \\\n",
      "Devourer                                                         594                            \n",
      "Early Reaper                                                     160                            \n",
      "Endurance                                                        129                            \n",
      "Survival Instinct                                                263                            \n",
      "Crush Them                                                         0                            \n",
      "Head_Hunter                                                      170                            \n",
      "\n",
      "                   ('Capacete1', 'Peitoral1', 'Braçadeiras2', 'Lâmina1', 'Punho1', 'Guarda2')   \n",
      "Galestorm                                                        431                           \\\n",
      "Devourer                                                         442                            \n",
      "Early Reaper                                                     160                            \n",
      "Endurance                                                        351                            \n",
      "Survival Instinct                                                491                            \n",
      "Crush Them                                                         0                            \n",
      "Head_Hunter                                                      170                            \n",
      "\n",
      "                   ('Capacete1', 'Peitoral1', 'Braçadeiras2', 'Lâmina1', 'Punho1', 'Guarda3')   \n",
      "Galestorm                                                        431                           \\\n",
      "Devourer                                                         442                            \n",
      "Early Reaper                                                     160                            \n",
      "Endurance                                                        347                            \n",
      "Survival Instinct                                                263                            \n",
      "Crush Them                                                       150                            \n",
      "Head_Hunter                                                      170                            \n",
      "\n",
      "                   ('Capacete1', 'Peitoral1', 'Braçadeiras2', 'Lâmina1', 'Punho2', 'Guarda1')   \n",
      "Galestorm                                                        412                           \\\n",
      "Devourer                                                         594                            \n",
      "Early Reaper                                                     392                            \n",
      "Endurance                                                        129                            \n",
      "Survival Instinct                                                120                            \n",
      "Crush Them                                                       194                            \n",
      "Head_Hunter                                                      170                            \n",
      "\n",
      "                   ...   \n",
      "Galestorm          ...  \\\n",
      "Devourer           ...   \n",
      "Early Reaper       ...   \n",
      "Endurance          ...   \n",
      "Survival Instinct  ...   \n",
      "Crush Them         ...   \n",
      "Head_Hunter        ...   \n",
      "\n",
      "                   ('Capacete2', 'Peitoral3', 'Braçadeiras1', 'Lâmina1', 'Punho1', 'Guarda3')   \n",
      "Galestorm                                                        629                           \\\n",
      "Devourer                                                         232                            \n",
      "Early Reaper                                                     305                            \n",
      "Endurance                                                        448                            \n",
      "Survival Instinct                                                290                            \n",
      "Crush Them                                                       150                            \n",
      "Head_Hunter                                                      199                            \n",
      "\n",
      "                   ('Capacete2', 'Peitoral3', 'Braçadeiras1', 'Lâmina1', 'Punho2', 'Guarda1')   \n",
      "Galestorm                                                        610                           \\\n",
      "Devourer                                                         384                            \n",
      "Early Reaper                                                     537                            \n",
      "Endurance                                                        230                            \n",
      "Survival Instinct                                                147                            \n",
      "Crush Them                                                       194                            \n",
      "Head_Hunter                                                      199                            \n",
      "\n",
      "                   ('Capacete2', 'Peitoral3', 'Braçadeiras1', 'Lâmina1', 'Punho2', 'Guarda2')   \n",
      "Galestorm                                                        423                           \\\n",
      "Devourer                                                         232                            \n",
      "Early Reaper                                                     537                            \n",
      "Endurance                                                        452                            \n",
      "Survival Instinct                                                375                            \n",
      "Crush Them                                                       194                            \n",
      "Head_Hunter                                                      199                            \n",
      "\n",
      "                   ('Capacete2', 'Peitoral3', 'Braçadeiras1', 'Lâmina1', 'Punho2', 'Guarda3')   \n",
      "Galestorm                                                        423                           \\\n",
      "Devourer                                                         232                            \n",
      "Early Reaper                                                     537                            \n",
      "Endurance                                                        448                            \n",
      "Survival Instinct                                                147                            \n",
      "Crush Them                                                       344                            \n",
      "Head_Hunter                                                      199                            \n",
      "\n",
      "                   ('Capacete2', 'Peitoral3', 'Braçadeiras2', 'Lâmina1', 'Punho1', 'Guarda1')   \n",
      "Galestorm                                                       1041                           \\\n",
      "Devourer                                                         384                            \n",
      "Early Reaper                                                     160                            \n",
      "Endurance                                                        359                            \n",
      "Survival Instinct                                                290                            \n",
      "Crush Them                                                         0                            \n",
      "Head_Hunter                                                        0                            \n",
      "\n",
      "                   ('Capacete2', 'Peitoral3', 'Braçadeiras2', 'Lâmina1', 'Punho1', 'Guarda2')   \n",
      "Galestorm                                                        854                           \\\n",
      "Devourer                                                         232                            \n",
      "Early Reaper                                                     160                            \n",
      "Endurance                                                        581                            \n",
      "Survival Instinct                                                518                            \n",
      "Crush Them                                                         0                            \n",
      "Head_Hunter                                                        0                            \n",
      "\n",
      "                   ('Capacete2', 'Peitoral3', 'Braçadeiras2', 'Lâmina1', 'Punho1', 'Guarda3')   \n",
      "Galestorm                                                        854                           \\\n",
      "Devourer                                                         232                            \n",
      "Early Reaper                                                     160                            \n",
      "Endurance                                                        577                            \n",
      "Survival Instinct                                                290                            \n",
      "Crush Them                                                       150                            \n",
      "Head_Hunter                                                        0                            \n",
      "\n",
      "                   ('Capacete2', 'Peitoral3', 'Braçadeiras2', 'Lâmina1', 'Punho2', 'Guarda1')   \n",
      "Galestorm                                                        835                           \\\n",
      "Devourer                                                         384                            \n",
      "Early Reaper                                                     392                            \n",
      "Endurance                                                        359                            \n",
      "Survival Instinct                                                147                            \n",
      "Crush Them                                                       194                            \n",
      "Head_Hunter                                                        0                            \n",
      "\n",
      "                   ('Capacete2', 'Peitoral3', 'Braçadeiras2', 'Lâmina1', 'Punho2', 'Guarda2')   \n",
      "Galestorm                                                        648                           \\\n",
      "Devourer                                                         232                            \n",
      "Early Reaper                                                     392                            \n",
      "Endurance                                                        581                            \n",
      "Survival Instinct                                                375                            \n",
      "Crush Them                                                       194                            \n",
      "Head_Hunter                                                        0                            \n",
      "\n",
      "                   ('Capacete2', 'Peitoral3', 'Braçadeiras2', 'Lâmina1', 'Punho2', 'Guarda3')  \n",
      "Galestorm                                                        648                           \n",
      "Devourer                                                         232                           \n",
      "Early Reaper                                                     392                           \n",
      "Endurance                                                        577                           \n",
      "Survival Instinct                                                147                           \n",
      "Crush Them                                                       344                           \n",
      "Head_Hunter                                                        0                           \n",
      "\n",
      "[7 rows x 72 columns]\n"
     ]
    }
   ],
   "source": [
    "df_comb = pd.DataFrame(dic_comb, index=perks_offensive)\n",
    "print(df_comb)"
   ]
  }
 ],
 "metadata": {
  "kernelspec": {
   "display_name": "Python 3",
   "language": "python",
   "name": "python3"
  },
  "language_info": {
   "codemirror_mode": {
    "name": "ipython",
    "version": 3
   },
   "file_extension": ".py",
   "mimetype": "text/x-python",
   "name": "python",
   "nbconvert_exporter": "python",
   "pygments_lexer": "ipython3",
   "version": "3.11.3"
  },
  "orig_nbformat": 4
 },
 "nbformat": 4,
 "nbformat_minor": 2
}
