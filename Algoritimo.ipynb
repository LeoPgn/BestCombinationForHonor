{
 "cells": [
  {
   "attachments": {},
   "cell_type": "markdown",
   "metadata": {},
   "source": [
    "# Algoritmo para Montar as Combinações"
   ]
  },
  {
   "attachments": {},
   "cell_type": "markdown",
   "metadata": {},
   "source": [
    "#### Importando as Bibliotecas"
   ]
  },
  {
   "cell_type": "code",
   "execution_count": 65,
   "metadata": {},
   "outputs": [],
   "source": [
    "import pandas as pd\n",
    "import numpy as np\n",
    "from itertools import product"
   ]
  },
  {
   "attachments": {},
   "cell_type": "markdown",
   "metadata": {},
   "source": [
    "#### Quais Perks tem em cada Grupo"
   ]
  },
  {
   "cell_type": "code",
   "execution_count": 66,
   "metadata": {},
   "outputs": [],
   "source": [
    "perks_offensive = [\"Galestorm\", \"Devourer\", \"Early Reaper\", \"Endurance\", \n",
    "                   \"Survival Instinct\", \"Crush Them\", \"Head Hunter\"]\n",
    "\n",
    "perks_defensive = []\n",
    "\n",
    "perks_assistive = []"
   ]
  },
  {
   "cell_type": "code",
   "execution_count": 67,
   "metadata": {},
   "outputs": [],
   "source": [
    "itens = {\"Capacete\": 3, \"Peitoral\": 3, \"Braçadeira\": 4, \"Lâmina\": 4, \"Punho\": 2, \"Guarda\": 6}"
   ]
  },
  {
   "attachments": {},
   "cell_type": "markdown",
   "metadata": {},
   "source": [
    "##### Criamos as Colunas do DataFrame, colocando manualmente os Perks de cada Item em ordem **(OH DISGRAÇA!)**"
   ]
  },
  {
   "cell_type": "code",
   "execution_count": 68,
   "metadata": {},
   "outputs": [],
   "source": [
    "dic_itens = {'Capacete1': np.array([0, 280, 0, 0, 0, 130, 0]),\n",
    "             'Capacete2': np.array([0, 280, 0, 0, 0, 0, 130]),\n",
    "             'Capacete3': np.array([0, 0, 280, 0, 0, 130, 0]),\n",
    "            'Peitoral1': np.array([130, 280, 0, 0, 0, 0, 0]),\n",
    "            'Peitoral2': np.array([0, 0, 0, 280, 0, 0, 130]),\n",
    "            'Peitoral3': np.array([0, 0, 280, 0, 0, 0, 130]),\n",
    "            'Braçadeiras1': np.array([0, 0, 0, 0, 0, 130, 130]),\n",
    "            'Braçadeiras2': np.array([0, 280, 0, 0, 0, 0, 130]),\n",
    "            'Braçadeiras3': np.array([0, 0, 0, 0, 145, 0, 145]),\n",
    "            'Braçadeiras4': np.array([0, 290, 0, 0, 0, 0, 140]),\n",
    "            'Lâmina1': np.array([0, 260, 0, 0, 0, 120, 0]),\n",
    "            'Lâmina2': np.array([0, 0, 0, 290, 0, 140, 0]),\n",
    "            'Lâmina3': np.array([290, 140, 0, 0, 0, 0, 0]),\n",
    "            'Lâmina4': np.array([0, 0, 280, 0, 130, 0, 0]),\n",
    "            'Punho1': np.array([260, 0, 0, 0, 0, 120, 0]),\n",
    "            'Punho2': np.array([0, 0, 0, 0, 140, 0, 140]),\n",
    "            'Guarda1': np.array([260, 0, 0, 0, 0, 120, 0]),\n",
    "            'Guarda2': np.array([0, 140, 0, 290, 0, 0, 0]),\n",
    "            'Guarda3': np.array([0, 290, 0, 0, 0, 0, 140]),\n",
    "            'Guarda4': np.array([0, 280, 0, 0, 0, 0, 130]),\n",
    "            'Guarda5': np.array([0, 280, 0, 130, 0, 0, 0]),\n",
    "            'Guarda6': np.array([0, 0, 0, 280, 0, 0, 130])\n",
    "            }\n"
   ]
  },
  {
   "attachments": {},
   "cell_type": "markdown",
   "metadata": {},
   "source": [
    "#### Criando o DataFrame"
   ]
  },
  {
   "cell_type": "code",
   "execution_count": 69,
   "metadata": {},
   "outputs": [
    {
     "name": "stdout",
     "output_type": "stream",
     "text": [
      "                   Capacete1  Capacete2  Capacete3  Peitoral1  Peitoral2   \n",
      "Galestorm                  0          0          0        130          0  \\\n",
      "Devourer                 280        280          0        280          0   \n",
      "Early Reaper               0          0        280          0          0   \n",
      "Endurance                  0          0          0          0        280   \n",
      "Survival Instinct          0          0          0          0          0   \n",
      "Crush Them               130          0        130          0          0   \n",
      "Head Hunter                0        130          0          0        130   \n",
      "\n",
      "                   Peitoral3  Braçadeiras1  Braçadeiras2  Braçadeiras3   \n",
      "Galestorm                  0             0             0             0  \\\n",
      "Devourer                   0             0           280             0   \n",
      "Early Reaper             280             0             0             0   \n",
      "Endurance                  0             0             0             0   \n",
      "Survival Instinct          0             0             0           145   \n",
      "Crush Them                 0           130             0             0   \n",
      "Head Hunter              130           130           130           145   \n",
      "\n",
      "                   Braçadeiras4  ...  Lâmina3  Lâmina4  Punho1  Punho2   \n",
      "Galestorm                     0  ...      290        0     260       0  \\\n",
      "Devourer                    290  ...      140        0       0       0   \n",
      "Early Reaper                  0  ...        0      280       0       0   \n",
      "Endurance                     0  ...        0        0       0       0   \n",
      "Survival Instinct             0  ...        0      130       0     140   \n",
      "Crush Them                    0  ...        0        0     120       0   \n",
      "Head Hunter                 140  ...        0        0       0     140   \n",
      "\n",
      "                   Guarda1  Guarda2  Guarda3  Guarda4  Guarda5  Guarda6  \n",
      "Galestorm              260        0        0        0        0        0  \n",
      "Devourer                 0      140      290      280      280        0  \n",
      "Early Reaper             0        0        0        0        0        0  \n",
      "Endurance                0      290        0        0      130      280  \n",
      "Survival Instinct        0        0        0        0        0        0  \n",
      "Crush Them             120        0        0        0        0        0  \n",
      "Head Hunter              0        0      140      130        0      130  \n",
      "\n",
      "[7 rows x 22 columns]\n"
     ]
    }
   ],
   "source": [
    "df = pd.DataFrame(dic_itens, index=perks_offensive)\n",
    "print(df)"
   ]
  },
  {
   "attachments": {},
   "cell_type": "markdown",
   "metadata": {},
   "source": [
    "#### Fazendo todas as combinações"
   ]
  },
  {
   "cell_type": "code",
   "execution_count": 70,
   "metadata": {},
   "outputs": [],
   "source": [
    "nome_itens = list(dic_itens.keys())\n",
    "\n",
    "c = nome_itens[:itens[\"Capacete\"]]\n",
    "\n",
    "pe = nome_itens[itens[\"Capacete\"]:itens[\"Capacete\"] + itens[\"Peitoral\"]]\n",
    "\n",
    "b = nome_itens[itens[\"Capacete\"] + itens[\"Peitoral\"]:itens[\"Capacete\"] + \n",
    "               itens[\"Peitoral\"] + itens[\"Braçadeira\"]]\n",
    "\n",
    "l = nome_itens[itens[\"Capacete\"] + itens[\"Peitoral\"] + itens[\"Braçadeira\"]:itens[\"Capacete\"] + \n",
    "               itens[\"Peitoral\"] + itens[\"Braçadeira\"] + itens[\"Lâmina\"]]\n",
    "\n",
    "pu = nome_itens[itens[\"Capacete\"] + itens[\"Peitoral\"] + itens[\"Braçadeira\"] + \n",
    "                itens[\"Lâmina\"]:itens[\"Capacete\"] + itens[\"Peitoral\"] + itens[\"Braçadeira\"] + \n",
    "                itens[\"Lâmina\"] + itens[\"Punho\"]] \n",
    "\n",
    "g = nome_itens[itens[\"Capacete\"] + itens[\"Peitoral\"] + itens[\"Braçadeira\"] + itens[\"Lâmina\"] + \n",
    "               itens[\"Punho\"]:itens[\"Capacete\"] + itens[\"Peitoral\"] + itens[\"Braçadeira\"] + \n",
    "               itens[\"Lâmina\"] + itens[\"Punho\"] + itens[\"Guarda\"]]\n",
    "\n",
    "combinacoes = list(product(c, pe, b, l, pu, g))"
   ]
  },
  {
   "attachments": {},
   "cell_type": "markdown",
   "metadata": {},
   "source": [
    "#### Criando as colunas do Novo DataFrame"
   ]
  },
  {
   "cell_type": "code",
   "execution_count": 71,
   "metadata": {},
   "outputs": [],
   "source": [
    "dic_comb = {}\n",
    "for comb in combinacoes:\n",
    "    perk_comb = [0]*7\n",
    "    for item in comb:\n",
    "        perk_comb += dic_itens[item]\n",
    "    dic_comb[f\"{comb}\"] = perk_comb"
   ]
  },
  {
   "attachments": {},
   "cell_type": "markdown",
   "metadata": {},
   "source": [
    "#### Por fim o DataFrame das Combinações"
   ]
  },
  {
   "cell_type": "code",
   "execution_count": 72,
   "metadata": {},
   "outputs": [
    {
     "name": "stdout",
     "output_type": "stream",
     "text": [
      "                   ('Capacete1', 'Peitoral1', 'Braçadeiras1', 'Lâmina1', 'Punho1', 'Guarda1')   \n",
      "Galestorm                                                        650                           \\\n",
      "Devourer                                                         820                            \n",
      "Early Reaper                                                       0                            \n",
      "Endurance                                                          0                            \n",
      "Survival Instinct                                                  0                            \n",
      "Crush Them                                                       620                            \n",
      "Head Hunter                                                      130                            \n",
      "\n",
      "                   ('Capacete1', 'Peitoral1', 'Braçadeiras1', 'Lâmina1', 'Punho1', 'Guarda2')   \n",
      "Galestorm                                                        390                           \\\n",
      "Devourer                                                         960                            \n",
      "Early Reaper                                                       0                            \n",
      "Endurance                                                        290                            \n",
      "Survival Instinct                                                  0                            \n",
      "Crush Them                                                       500                            \n",
      "Head Hunter                                                      130                            \n",
      "\n",
      "                   ('Capacete1', 'Peitoral1', 'Braçadeiras1', 'Lâmina1', 'Punho1', 'Guarda3')   \n",
      "Galestorm                                                        390                           \\\n",
      "Devourer                                                        1110                            \n",
      "Early Reaper                                                       0                            \n",
      "Endurance                                                          0                            \n",
      "Survival Instinct                                                  0                            \n",
      "Crush Them                                                       500                            \n",
      "Head Hunter                                                      270                            \n",
      "\n",
      "                   ('Capacete1', 'Peitoral1', 'Braçadeiras1', 'Lâmina1', 'Punho1', 'Guarda4')   \n",
      "Galestorm                                                        390                           \\\n",
      "Devourer                                                        1100                            \n",
      "Early Reaper                                                       0                            \n",
      "Endurance                                                          0                            \n",
      "Survival Instinct                                                  0                            \n",
      "Crush Them                                                       500                            \n",
      "Head Hunter                                                      260                            \n",
      "\n",
      "                   ('Capacete1', 'Peitoral1', 'Braçadeiras1', 'Lâmina1', 'Punho1', 'Guarda5')   \n",
      "Galestorm                                                        390                           \\\n",
      "Devourer                                                        1100                            \n",
      "Early Reaper                                                       0                            \n",
      "Endurance                                                        130                            \n",
      "Survival Instinct                                                  0                            \n",
      "Crush Them                                                       500                            \n",
      "Head Hunter                                                      130                            \n",
      "\n",
      "                   ('Capacete1', 'Peitoral1', 'Braçadeiras1', 'Lâmina1', 'Punho1', 'Guarda6')   \n",
      "Galestorm                                                        390                           \\\n",
      "Devourer                                                         820                            \n",
      "Early Reaper                                                       0                            \n",
      "Endurance                                                        280                            \n",
      "Survival Instinct                                                  0                            \n",
      "Crush Them                                                       500                            \n",
      "Head Hunter                                                      260                            \n",
      "\n",
      "                   ('Capacete1', 'Peitoral1', 'Braçadeiras1', 'Lâmina1', 'Punho2', 'Guarda1')   \n",
      "Galestorm                                                        390                           \\\n",
      "Devourer                                                         820                            \n",
      "Early Reaper                                                       0                            \n",
      "Endurance                                                          0                            \n",
      "Survival Instinct                                                140                            \n",
      "Crush Them                                                       500                            \n",
      "Head Hunter                                                      270                            \n",
      "\n",
      "                   ('Capacete1', 'Peitoral1', 'Braçadeiras1', 'Lâmina1', 'Punho2', 'Guarda2')   \n",
      "Galestorm                                                        130                           \\\n",
      "Devourer                                                         960                            \n",
      "Early Reaper                                                       0                            \n",
      "Endurance                                                        290                            \n",
      "Survival Instinct                                                140                            \n",
      "Crush Them                                                       380                            \n",
      "Head Hunter                                                      270                            \n",
      "\n",
      "                   ('Capacete1', 'Peitoral1', 'Braçadeiras1', 'Lâmina1', 'Punho2', 'Guarda3')   \n",
      "Galestorm                                                        130                           \\\n",
      "Devourer                                                        1110                            \n",
      "Early Reaper                                                       0                            \n",
      "Endurance                                                          0                            \n",
      "Survival Instinct                                                140                            \n",
      "Crush Them                                                       380                            \n",
      "Head Hunter                                                      410                            \n",
      "\n",
      "                   ('Capacete1', 'Peitoral1', 'Braçadeiras1', 'Lâmina1', 'Punho2', 'Guarda4')   \n",
      "Galestorm                                                        130                           \\\n",
      "Devourer                                                        1100                            \n",
      "Early Reaper                                                       0                            \n",
      "Endurance                                                          0                            \n",
      "Survival Instinct                                                140                            \n",
      "Crush Them                                                       380                            \n",
      "Head Hunter                                                      400                            \n",
      "\n",
      "                   ...   \n",
      "Galestorm          ...  \\\n",
      "Devourer           ...   \n",
      "Early Reaper       ...   \n",
      "Endurance          ...   \n",
      "Survival Instinct  ...   \n",
      "Crush Them         ...   \n",
      "Head Hunter        ...   \n",
      "\n",
      "                   ('Capacete3', 'Peitoral3', 'Braçadeiras4', 'Lâmina4', 'Punho1', 'Guarda3')   \n",
      "Galestorm                                                        260                           \\\n",
      "Devourer                                                         580                            \n",
      "Early Reaper                                                     840                            \n",
      "Endurance                                                          0                            \n",
      "Survival Instinct                                                130                            \n",
      "Crush Them                                                       250                            \n",
      "Head Hunter                                                      410                            \n",
      "\n",
      "                   ('Capacete3', 'Peitoral3', 'Braçadeiras4', 'Lâmina4', 'Punho1', 'Guarda4')   \n",
      "Galestorm                                                        260                           \\\n",
      "Devourer                                                         570                            \n",
      "Early Reaper                                                     840                            \n",
      "Endurance                                                          0                            \n",
      "Survival Instinct                                                130                            \n",
      "Crush Them                                                       250                            \n",
      "Head Hunter                                                      400                            \n",
      "\n",
      "                   ('Capacete3', 'Peitoral3', 'Braçadeiras4', 'Lâmina4', 'Punho1', 'Guarda5')   \n",
      "Galestorm                                                        260                           \\\n",
      "Devourer                                                         570                            \n",
      "Early Reaper                                                     840                            \n",
      "Endurance                                                        130                            \n",
      "Survival Instinct                                                130                            \n",
      "Crush Them                                                       250                            \n",
      "Head Hunter                                                      270                            \n",
      "\n",
      "                   ('Capacete3', 'Peitoral3', 'Braçadeiras4', 'Lâmina4', 'Punho1', 'Guarda6')   \n",
      "Galestorm                                                        260                           \\\n",
      "Devourer                                                         290                            \n",
      "Early Reaper                                                     840                            \n",
      "Endurance                                                        280                            \n",
      "Survival Instinct                                                130                            \n",
      "Crush Them                                                       250                            \n",
      "Head Hunter                                                      400                            \n",
      "\n",
      "                   ('Capacete3', 'Peitoral3', 'Braçadeiras4', 'Lâmina4', 'Punho2', 'Guarda1')   \n",
      "Galestorm                                                        260                           \\\n",
      "Devourer                                                         290                            \n",
      "Early Reaper                                                     840                            \n",
      "Endurance                                                          0                            \n",
      "Survival Instinct                                                270                            \n",
      "Crush Them                                                       250                            \n",
      "Head Hunter                                                      410                            \n",
      "\n",
      "                   ('Capacete3', 'Peitoral3', 'Braçadeiras4', 'Lâmina4', 'Punho2', 'Guarda2')   \n",
      "Galestorm                                                          0                           \\\n",
      "Devourer                                                         430                            \n",
      "Early Reaper                                                     840                            \n",
      "Endurance                                                        290                            \n",
      "Survival Instinct                                                270                            \n",
      "Crush Them                                                       130                            \n",
      "Head Hunter                                                      410                            \n",
      "\n",
      "                   ('Capacete3', 'Peitoral3', 'Braçadeiras4', 'Lâmina4', 'Punho2', 'Guarda3')   \n",
      "Galestorm                                                          0                           \\\n",
      "Devourer                                                         580                            \n",
      "Early Reaper                                                     840                            \n",
      "Endurance                                                          0                            \n",
      "Survival Instinct                                                270                            \n",
      "Crush Them                                                       130                            \n",
      "Head Hunter                                                      550                            \n",
      "\n",
      "                   ('Capacete3', 'Peitoral3', 'Braçadeiras4', 'Lâmina4', 'Punho2', 'Guarda4')   \n",
      "Galestorm                                                          0                           \\\n",
      "Devourer                                                         570                            \n",
      "Early Reaper                                                     840                            \n",
      "Endurance                                                          0                            \n",
      "Survival Instinct                                                270                            \n",
      "Crush Them                                                       130                            \n",
      "Head Hunter                                                      540                            \n",
      "\n",
      "                   ('Capacete3', 'Peitoral3', 'Braçadeiras4', 'Lâmina4', 'Punho2', 'Guarda5')   \n",
      "Galestorm                                                          0                           \\\n",
      "Devourer                                                         570                            \n",
      "Early Reaper                                                     840                            \n",
      "Endurance                                                        130                            \n",
      "Survival Instinct                                                270                            \n",
      "Crush Them                                                       130                            \n",
      "Head Hunter                                                      410                            \n",
      "\n",
      "                   ('Capacete3', 'Peitoral3', 'Braçadeiras4', 'Lâmina4', 'Punho2', 'Guarda6')  \n",
      "Galestorm                                                          0                           \n",
      "Devourer                                                         290                           \n",
      "Early Reaper                                                     840                           \n",
      "Endurance                                                        280                           \n",
      "Survival Instinct                                                270                           \n",
      "Crush Them                                                       130                           \n",
      "Head Hunter                                                      540                           \n",
      "\n",
      "[7 rows x 1728 columns]\n"
     ]
    }
   ],
   "source": [
    "df_comb = pd.DataFrame(dic_comb, index=perks_offensive)\n",
    "print(df_comb)"
   ]
  },
  {
   "attachments": {},
   "cell_type": "markdown",
   "metadata": {},
   "source": [
    "### Filtrando por Perks escolhidos"
   ]
  },
  {
   "cell_type": "code",
   "execution_count": 76,
   "metadata": {},
   "outputs": [
    {
     "name": "stdout",
     "output_type": "stream",
     "text": [
      "Empty DataFrame\n",
      "Columns: []\n",
      "Index: [Galestorm, Devourer, Early Reaper, Endurance, Survival Instinct, Crush Them, Head Hunter]\n"
     ]
    }
   ],
   "source": [
    "# Devourer, Endurance, Head Hunter\n",
    "\n",
    "# Filtrando o DataFrame com base na condição\n",
    "df_filtrado1 = df_comb.loc[:, df_comb.loc[\"Devourer\"] >= 600]\n",
    "df_filtrado2 = df_filtrado1.loc[:, df_filtrado1.loc[\"Endurance\"] >= 600]\n",
    "df_filtrado3 = df_filtrado2.loc[:, df_filtrado2.loc[\"Head Hunter\"] >= 600]\n",
    "print(df_filtrado3)"
   ]
  }
 ],
 "metadata": {
  "kernelspec": {
   "display_name": "Python 3",
   "language": "python",
   "name": "python3"
  },
  "language_info": {
   "codemirror_mode": {
    "name": "ipython",
    "version": 3
   },
   "file_extension": ".py",
   "mimetype": "text/x-python",
   "name": "python",
   "nbconvert_exporter": "python",
   "pygments_lexer": "ipython3",
   "version": "3.11.3"
  },
  "orig_nbformat": 4
 },
 "nbformat": 4,
 "nbformat_minor": 2
}
